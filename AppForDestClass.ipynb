{
  "nbformat": 4,
  "nbformat_minor": 0,
  "metadata": {
    "colab": {
      "name": "AppForDestClass.ipynb",
      "provenance": [],
      "collapsed_sections": []
    },
    "kernelspec": {
      "name": "python3",
      "display_name": "Python 3"
    },
    "language_info": {
      "name": "python"
    },
    "widgets": {
      "application/vnd.jupyter.widget-state+json": {
        "3a2020953ec4486c920c1fa8cdfbfb17": {
          "model_module": "@jupyter-widgets/controls",
          "model_name": "VBoxModel",
          "model_module_version": "1.5.0",
          "state": {
            "_view_name": "VBoxView",
            "_dom_classes": [],
            "_model_name": "VBoxModel",
            "_view_module": "@jupyter-widgets/controls",
            "_model_module_version": "1.5.0",
            "_view_count": null,
            "_view_module_version": "1.5.0",
            "box_style": "",
            "layout": "IPY_MODEL_d34c516689f24bb5a4773468f874eae2",
            "_model_module": "@jupyter-widgets/controls",
            "children": [
              "IPY_MODEL_36c252b6ff0c468d810cf6016d8464dd",
              "IPY_MODEL_7c1ce5b1e48b4b0dbeecada9fddef94f",
              "IPY_MODEL_629b5d0023bd43349f7c12705c63fe27",
              "IPY_MODEL_c6073530b0644d3385676f1d20b44377"
            ]
          }
        },
        "d34c516689f24bb5a4773468f874eae2": {
          "model_module": "@jupyter-widgets/base",
          "model_name": "LayoutModel",
          "model_module_version": "1.2.0",
          "state": {
            "_view_name": "LayoutView",
            "grid_template_rows": null,
            "right": null,
            "justify_content": null,
            "_view_module": "@jupyter-widgets/base",
            "overflow": null,
            "_model_module_version": "1.2.0",
            "_view_count": null,
            "flex_flow": null,
            "width": null,
            "min_width": null,
            "border": null,
            "align_items": null,
            "bottom": null,
            "_model_module": "@jupyter-widgets/base",
            "top": null,
            "grid_column": null,
            "overflow_y": null,
            "overflow_x": null,
            "grid_auto_flow": null,
            "grid_area": null,
            "grid_template_columns": null,
            "flex": null,
            "_model_name": "LayoutModel",
            "justify_items": null,
            "grid_row": null,
            "max_height": null,
            "align_content": null,
            "visibility": null,
            "align_self": null,
            "height": null,
            "min_height": null,
            "padding": null,
            "grid_auto_rows": null,
            "grid_gap": null,
            "max_width": null,
            "order": null,
            "_view_module_version": "1.2.0",
            "grid_template_areas": null,
            "object_position": null,
            "object_fit": null,
            "grid_auto_columns": null,
            "margin": null,
            "display": null,
            "left": null
          }
        },
        "36c252b6ff0c468d810cf6016d8464dd": {
          "model_module": "@jupyter-widgets/controls",
          "model_name": "LabelModel",
          "model_module_version": "1.5.0",
          "state": {
            "_view_name": "LabelView",
            "style": "IPY_MODEL_912ec136657c4799889d1766c111af0b",
            "_dom_classes": [],
            "description": "",
            "_model_name": "LabelModel",
            "placeholder": "​",
            "_view_module": "@jupyter-widgets/controls",
            "_model_module_version": "1.5.0",
            "value": "Select your holiday!",
            "_view_count": null,
            "_view_module_version": "1.5.0",
            "description_tooltip": null,
            "_model_module": "@jupyter-widgets/controls",
            "layout": "IPY_MODEL_d802846e57714e50bbcf3b0d4324b959"
          }
        },
        "7c1ce5b1e48b4b0dbeecada9fddef94f": {
          "model_module": "@jupyter-widgets/controls",
          "model_name": "FileUploadModel",
          "model_module_version": "1.5.0",
          "state": {
            "_view_name": "FileUploadView",
            "_counter": 7,
            "style": "IPY_MODEL_03c96f28eb1145c58c3f3cc9c1967b28",
            "_dom_classes": [],
            "description": "Upload",
            "multiple": false,
            "_model_name": "FileUploadModel",
            "data": [
              null
            ],
            "button_style": "",
            "_view_module": "@jupyter-widgets/controls",
            "_model_module_version": "1.5.0",
            "accept": "",
            "_view_count": null,
            "disabled": false,
            "_view_module_version": "1.5.0",
            "error": "",
            "description_tooltip": null,
            "metadata": [
              {
                "name": "sgwd-yr-eira-waterfall-brecon-beacons-wales-royalty-free-image-1618393511_.jpg",
                "type": "image/jpeg",
                "size": 107923,
                "lastModified": 1633782256734
              }
            ],
            "_model_module": "@jupyter-widgets/controls",
            "layout": "IPY_MODEL_c4ebe46ea8504edf9e04d70c4c367261",
            "icon": "upload"
          }
        },
        "629b5d0023bd43349f7c12705c63fe27": {
          "model_module": "@jupyter-widgets/output",
          "model_name": "OutputModel",
          "model_module_version": "1.0.0",
          "state": {
            "_view_name": "OutputView",
            "msg_id": "",
            "_dom_classes": [],
            "_model_name": "OutputModel",
            "outputs": [
              {
                "output_type": "display_data",
                "data": {
                  "image/png": "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\n",
                  "text/plain": "<PIL.Image.Image image mode=RGB size=128x128 at 0x7FEBD1C8D610>"
                },
                "metadata": {}
              }
            ],
            "_view_module": "@jupyter-widgets/output",
            "_model_module_version": "1.0.0",
            "_view_count": null,
            "_view_module_version": "1.0.0",
            "layout": "IPY_MODEL_b88788a4968b403ebfbeec629c27e9cd",
            "_model_module": "@jupyter-widgets/output"
          }
        },
        "c6073530b0644d3385676f1d20b44377": {
          "model_module": "@jupyter-widgets/controls",
          "model_name": "LabelModel",
          "model_module_version": "1.5.0",
          "state": {
            "_view_name": "LabelView",
            "style": "IPY_MODEL_1decf829954b4ef6a7b9cf8049579f00",
            "_dom_classes": [],
            "description": "",
            "_model_name": "LabelModel",
            "placeholder": "​",
            "_view_module": "@jupyter-widgets/controls",
            "_model_module_version": "1.5.0",
            "value": "Prediction: lakes-mountains; Probability: 0.5016",
            "_view_count": null,
            "_view_module_version": "1.5.0",
            "description_tooltip": null,
            "_model_module": "@jupyter-widgets/controls",
            "layout": "IPY_MODEL_ebb92b0a308f404392680fd1d3f107f4"
          }
        },
        "912ec136657c4799889d1766c111af0b": {
          "model_module": "@jupyter-widgets/controls",
          "model_name": "DescriptionStyleModel",
          "model_module_version": "1.5.0",
          "state": {
            "_view_name": "StyleView",
            "_model_name": "DescriptionStyleModel",
            "description_width": "",
            "_view_module": "@jupyter-widgets/base",
            "_model_module_version": "1.5.0",
            "_view_count": null,
            "_view_module_version": "1.2.0",
            "_model_module": "@jupyter-widgets/controls"
          }
        },
        "d802846e57714e50bbcf3b0d4324b959": {
          "model_module": "@jupyter-widgets/base",
          "model_name": "LayoutModel",
          "model_module_version": "1.2.0",
          "state": {
            "_view_name": "LayoutView",
            "grid_template_rows": null,
            "right": null,
            "justify_content": null,
            "_view_module": "@jupyter-widgets/base",
            "overflow": null,
            "_model_module_version": "1.2.0",
            "_view_count": null,
            "flex_flow": null,
            "width": null,
            "min_width": null,
            "border": null,
            "align_items": null,
            "bottom": null,
            "_model_module": "@jupyter-widgets/base",
            "top": null,
            "grid_column": null,
            "overflow_y": null,
            "overflow_x": null,
            "grid_auto_flow": null,
            "grid_area": null,
            "grid_template_columns": null,
            "flex": null,
            "_model_name": "LayoutModel",
            "justify_items": null,
            "grid_row": null,
            "max_height": null,
            "align_content": null,
            "visibility": null,
            "align_self": null,
            "height": null,
            "min_height": null,
            "padding": null,
            "grid_auto_rows": null,
            "grid_gap": null,
            "max_width": null,
            "order": null,
            "_view_module_version": "1.2.0",
            "grid_template_areas": null,
            "object_position": null,
            "object_fit": null,
            "grid_auto_columns": null,
            "margin": null,
            "display": null,
            "left": null
          }
        },
        "03c96f28eb1145c58c3f3cc9c1967b28": {
          "model_module": "@jupyter-widgets/controls",
          "model_name": "ButtonStyleModel",
          "model_module_version": "1.5.0",
          "state": {
            "_view_name": "StyleView",
            "_model_name": "ButtonStyleModel",
            "_view_module": "@jupyter-widgets/base",
            "_model_module_version": "1.5.0",
            "_view_count": null,
            "button_color": null,
            "font_weight": "",
            "_view_module_version": "1.2.0",
            "_model_module": "@jupyter-widgets/controls"
          }
        },
        "c4ebe46ea8504edf9e04d70c4c367261": {
          "model_module": "@jupyter-widgets/base",
          "model_name": "LayoutModel",
          "model_module_version": "1.2.0",
          "state": {
            "_view_name": "LayoutView",
            "grid_template_rows": null,
            "right": null,
            "justify_content": null,
            "_view_module": "@jupyter-widgets/base",
            "overflow": null,
            "_model_module_version": "1.2.0",
            "_view_count": null,
            "flex_flow": null,
            "width": null,
            "min_width": null,
            "border": null,
            "align_items": null,
            "bottom": null,
            "_model_module": "@jupyter-widgets/base",
            "top": null,
            "grid_column": null,
            "overflow_y": null,
            "overflow_x": null,
            "grid_auto_flow": null,
            "grid_area": null,
            "grid_template_columns": null,
            "flex": null,
            "_model_name": "LayoutModel",
            "justify_items": null,
            "grid_row": null,
            "max_height": null,
            "align_content": null,
            "visibility": null,
            "align_self": null,
            "height": null,
            "min_height": null,
            "padding": null,
            "grid_auto_rows": null,
            "grid_gap": null,
            "max_width": null,
            "order": null,
            "_view_module_version": "1.2.0",
            "grid_template_areas": null,
            "object_position": null,
            "object_fit": null,
            "grid_auto_columns": null,
            "margin": null,
            "display": null,
            "left": null
          }
        },
        "1decf829954b4ef6a7b9cf8049579f00": {
          "model_module": "@jupyter-widgets/controls",
          "model_name": "DescriptionStyleModel",
          "model_module_version": "1.5.0",
          "state": {
            "_view_name": "StyleView",
            "_model_name": "DescriptionStyleModel",
            "description_width": "",
            "_view_module": "@jupyter-widgets/base",
            "_model_module_version": "1.5.0",
            "_view_count": null,
            "_view_module_version": "1.2.0",
            "_model_module": "@jupyter-widgets/controls"
          }
        },
        "ebb92b0a308f404392680fd1d3f107f4": {
          "model_module": "@jupyter-widgets/base",
          "model_name": "LayoutModel",
          "model_module_version": "1.2.0",
          "state": {
            "_view_name": "LayoutView",
            "grid_template_rows": null,
            "right": null,
            "justify_content": null,
            "_view_module": "@jupyter-widgets/base",
            "overflow": null,
            "_model_module_version": "1.2.0",
            "_view_count": null,
            "flex_flow": null,
            "width": null,
            "min_width": null,
            "border": null,
            "align_items": null,
            "bottom": null,
            "_model_module": "@jupyter-widgets/base",
            "top": null,
            "grid_column": null,
            "overflow_y": null,
            "overflow_x": null,
            "grid_auto_flow": null,
            "grid_area": null,
            "grid_template_columns": null,
            "flex": null,
            "_model_name": "LayoutModel",
            "justify_items": null,
            "grid_row": null,
            "max_height": null,
            "align_content": null,
            "visibility": null,
            "align_self": null,
            "height": null,
            "min_height": null,
            "padding": null,
            "grid_auto_rows": null,
            "grid_gap": null,
            "max_width": null,
            "order": null,
            "_view_module_version": "1.2.0",
            "grid_template_areas": null,
            "object_position": null,
            "object_fit": null,
            "grid_auto_columns": null,
            "margin": null,
            "display": null,
            "left": null
          }
        },
        "b88788a4968b403ebfbeec629c27e9cd": {
          "model_module": "@jupyter-widgets/base",
          "model_name": "LayoutModel",
          "model_module_version": "1.2.0",
          "state": {
            "_view_name": "LayoutView",
            "grid_template_rows": null,
            "right": null,
            "justify_content": null,
            "_view_module": "@jupyter-widgets/base",
            "overflow": null,
            "_model_module_version": "1.2.0",
            "_view_count": null,
            "flex_flow": null,
            "width": null,
            "min_width": null,
            "border": null,
            "align_items": null,
            "bottom": null,
            "_model_module": "@jupyter-widgets/base",
            "top": null,
            "grid_column": null,
            "overflow_y": null,
            "overflow_x": null,
            "grid_auto_flow": null,
            "grid_area": null,
            "grid_template_columns": null,
            "flex": null,
            "_model_name": "LayoutModel",
            "justify_items": null,
            "grid_row": null,
            "max_height": null,
            "align_content": null,
            "visibility": null,
            "align_self": null,
            "height": null,
            "min_height": null,
            "padding": null,
            "grid_auto_rows": null,
            "grid_gap": null,
            "max_width": null,
            "order": null,
            "_view_module_version": "1.2.0",
            "grid_template_areas": null,
            "object_position": null,
            "object_fit": null,
            "grid_auto_columns": null,
            "margin": null,
            "display": null,
            "left": null
          }
        }
      }
    }
  },
  "cells": [
    {
      "cell_type": "code",
      "metadata": {
        "id": "7FRpDNGDI7kl",
        "colab": {
          "base_uri": "https://localhost:8080/"
        },
        "outputId": "15aba938-ba3f-4425-d658-350ccded9113"
      },
      "source": [
        "# Classifier App\n",
        "# THSimm\n",
        "\n",
        "#!pip install -Uqq fastbook\n",
        "from fastai.vision.all import *\n",
        "from fastai.vision.widgets import *\n"
      ],
      "execution_count": 1,
      "outputs": [
        {
          "output_type": "stream",
          "name": "stdout",
          "text": [
            "\u001b[?25l\r\u001b[K     |▊                               | 10 kB 16.3 MB/s eta 0:00:01\r\u001b[K     |█▍                              | 20 kB 19.2 MB/s eta 0:00:01\r\u001b[K     |██▏                             | 30 kB 17.8 MB/s eta 0:00:01\r\u001b[K     |██▉                             | 40 kB 11.0 MB/s eta 0:00:01\r\u001b[K     |███▋                            | 51 kB 5.2 MB/s eta 0:00:01\r\u001b[K     |████▎                           | 61 kB 5.1 MB/s eta 0:00:01\r\u001b[K     |█████                           | 71 kB 5.6 MB/s eta 0:00:01\r\u001b[K     |█████▊                          | 81 kB 5.9 MB/s eta 0:00:01\r\u001b[K     |██████▌                         | 92 kB 4.6 MB/s eta 0:00:01\r\u001b[K     |███████▏                        | 102 kB 4.9 MB/s eta 0:00:01\r\u001b[K     |████████                        | 112 kB 4.9 MB/s eta 0:00:01\r\u001b[K     |████████▋                       | 122 kB 4.9 MB/s eta 0:00:01\r\u001b[K     |█████████▍                      | 133 kB 4.9 MB/s eta 0:00:01\r\u001b[K     |██████████                      | 143 kB 4.9 MB/s eta 0:00:01\r\u001b[K     |██████████▉                     | 153 kB 4.9 MB/s eta 0:00:01\r\u001b[K     |███████████▌                    | 163 kB 4.9 MB/s eta 0:00:01\r\u001b[K     |████████████▎                   | 174 kB 4.9 MB/s eta 0:00:01\r\u001b[K     |█████████████                   | 184 kB 4.9 MB/s eta 0:00:01\r\u001b[K     |█████████████▊                  | 194 kB 4.9 MB/s eta 0:00:01\r\u001b[K     |██████████████▍                 | 204 kB 4.9 MB/s eta 0:00:01\r\u001b[K     |███████████████▏                | 215 kB 4.9 MB/s eta 0:00:01\r\u001b[K     |███████████████▉                | 225 kB 4.9 MB/s eta 0:00:01\r\u001b[K     |████████████████▋               | 235 kB 4.9 MB/s eta 0:00:01\r\u001b[K     |█████████████████▎              | 245 kB 4.9 MB/s eta 0:00:01\r\u001b[K     |██████████████████              | 256 kB 4.9 MB/s eta 0:00:01\r\u001b[K     |██████████████████▊             | 266 kB 4.9 MB/s eta 0:00:01\r\u001b[K     |███████████████████▍            | 276 kB 4.9 MB/s eta 0:00:01\r\u001b[K     |████████████████████▏           | 286 kB 4.9 MB/s eta 0:00:01\r\u001b[K     |████████████████████▉           | 296 kB 4.9 MB/s eta 0:00:01\r\u001b[K     |█████████████████████▋          | 307 kB 4.9 MB/s eta 0:00:01\r\u001b[K     |██████████████████████▎         | 317 kB 4.9 MB/s eta 0:00:01\r\u001b[K     |███████████████████████         | 327 kB 4.9 MB/s eta 0:00:01\r\u001b[K     |███████████████████████▊        | 337 kB 4.9 MB/s eta 0:00:01\r\u001b[K     |████████████████████████▌       | 348 kB 4.9 MB/s eta 0:00:01\r\u001b[K     |█████████████████████████▏      | 358 kB 4.9 MB/s eta 0:00:01\r\u001b[K     |██████████████████████████      | 368 kB 4.9 MB/s eta 0:00:01\r\u001b[K     |██████████████████████████▋     | 378 kB 4.9 MB/s eta 0:00:01\r\u001b[K     |███████████████████████████▍    | 389 kB 4.9 MB/s eta 0:00:01\r\u001b[K     |████████████████████████████    | 399 kB 4.9 MB/s eta 0:00:01\r\u001b[K     |████████████████████████████▉   | 409 kB 4.9 MB/s eta 0:00:01\r\u001b[K     |█████████████████████████████▌  | 419 kB 4.9 MB/s eta 0:00:01\r\u001b[K     |██████████████████████████████▎ | 430 kB 4.9 MB/s eta 0:00:01\r\u001b[K     |███████████████████████████████ | 440 kB 4.9 MB/s eta 0:00:01\r\u001b[K     |███████████████████████████████▊| 450 kB 4.9 MB/s eta 0:00:01\r\u001b[K     |████████████████████████████████| 455 kB 4.9 MB/s \n",
            "\u001b[31mERROR: pip's dependency resolver does not currently take into account all the packages that are installed. This behaviour is the source of the following dependency conflicts.\n",
            "voila 0.2.16 requires nbconvert<7,>=6.0.0, but you have nbconvert 5.6.1 which is incompatible.\n",
            "google-colab 1.0.0 requires tornado~=5.1.0; python_version >= \"3.0\", but you have tornado 6.1 which is incompatible.\u001b[0m\n",
            "\u001b[?25h"
          ]
        }
      ]
    },
    {
      "cell_type": "code",
      "metadata": {
        "id": "RA_VH2GBJCGY"
      },
      "source": [
        ""
      ],
      "execution_count": null,
      "outputs": []
    },
    {
      "cell_type": "code",
      "metadata": {
        "id": "tGXnqjffJPyU"
      },
      "source": [
        "path = Path()\n",
        "learn_inf = load_learner(path/'export.pkl')\n",
        "\n",
        "btn_upload = widgets.FileUpload()\n",
        "\n",
        "# #hide_output\n",
        "out_pl = widgets.Output()\n",
        "out_pl.clear_output()\n",
        "\n",
        "lbl_pred = widgets.Label()\n"
      ],
      "execution_count": 2,
      "outputs": []
    },
    {
      "cell_type": "code",
      "metadata": {
        "id": "2dB_d_ok67ay"
      },
      "source": [
        "def on_click_classify(change):\n",
        "    img = PILImage.create(btn_upload.data[-1])\n",
        "    out_pl.clear_output()\n",
        "    with out_pl: display(img.to_thumb(128,128))\n",
        "    pred,pred_idx,probs = learn_inf.predict(img)\n",
        "    lbl_pred.value = f'Prediction: {pred}; Probability: {probs[pred_idx]:.04f}'\n"
      ],
      "execution_count": 3,
      "outputs": []
    },
    {
      "cell_type": "code",
      "metadata": {
        "id": "9Bi4mAM3JJrz"
      },
      "source": [
        "btn_upload.observe(on_click_classify,names=['data'])"
      ],
      "execution_count": 6,
      "outputs": []
    },
    {
      "cell_type": "code",
      "metadata": {
        "id": "Gt3oQPqE6Je7"
      },
      "source": [
        ""
      ],
      "execution_count": null,
      "outputs": []
    },
    {
      "cell_type": "code",
      "metadata": {
        "id": "TYxKc2pOMT-e",
        "colab": {
          "base_uri": "https://localhost:8080/",
          "height": 297,
          "referenced_widgets": [
            "3a2020953ec4486c920c1fa8cdfbfb17",
            "d34c516689f24bb5a4773468f874eae2",
            "36c252b6ff0c468d810cf6016d8464dd",
            "7c1ce5b1e48b4b0dbeecada9fddef94f",
            "629b5d0023bd43349f7c12705c63fe27",
            "c6073530b0644d3385676f1d20b44377",
            "912ec136657c4799889d1766c111af0b",
            "d802846e57714e50bbcf3b0d4324b959",
            "03c96f28eb1145c58c3f3cc9c1967b28",
            "c4ebe46ea8504edf9e04d70c4c367261",
            "1decf829954b4ef6a7b9cf8049579f00",
            "ebb92b0a308f404392680fd1d3f107f4",
            "b88788a4968b403ebfbeec629c27e9cd"
          ]
        },
        "outputId": "740e1b1b-ddd3-4906-af89-fdd4a79c55f6"
      },
      "source": [
        "#hide_output\n",
        "display(VBox([widgets.Label('Select your holiday!'), \n",
        "      btn_upload,  out_pl, lbl_pred]) )"
      ],
      "execution_count": 8,
      "outputs": [
        {
          "output_type": "display_data",
          "data": {
            "application/vnd.jupyter.widget-view+json": {
              "model_id": "3a2020953ec4486c920c1fa8cdfbfb17",
              "version_minor": 0,
              "version_major": 2
            },
            "text/plain": [
              "VBox(children=(Label(value='Select your holiday!'), FileUpload(value={}, description='Upload'), Output(), Labe…"
            ]
          },
          "metadata": {}
        },
        {
          "output_type": "display_data",
          "data": {
            "text/html": [
              ""
            ],
            "text/plain": [
              "<IPython.core.display.HTML object>"
            ]
          },
          "metadata": {}
        },
        {
          "output_type": "stream",
          "name": "stderr",
          "text": [
            "/usr/local/lib/python3.7/dist-packages/torch/nn/functional.py:718: UserWarning: Named tensors and all their associated APIs are an experimental feature and subject to change. Please do not use them for anything important until they are released as stable. (Triggered internally at  /pytorch/c10/core/TensorImpl.h:1156.)\n",
            "  return torch.max_pool2d(input, kernel_size, stride, padding, dilation, ceil_mode)\n"
          ]
        },
        {
          "output_type": "display_data",
          "data": {
            "text/html": [
              ""
            ],
            "text/plain": [
              "<IPython.core.display.HTML object>"
            ]
          },
          "metadata": {}
        },
        {
          "output_type": "display_data",
          "data": {
            "text/html": [
              ""
            ],
            "text/plain": [
              "<IPython.core.display.HTML object>"
            ]
          },
          "metadata": {}
        },
        {
          "output_type": "display_data",
          "data": {
            "text/html": [
              ""
            ],
            "text/plain": [
              "<IPython.core.display.HTML object>"
            ]
          },
          "metadata": {}
        },
        {
          "output_type": "display_data",
          "data": {
            "text/html": [
              ""
            ],
            "text/plain": [
              "<IPython.core.display.HTML object>"
            ]
          },
          "metadata": {}
        },
        {
          "output_type": "display_data",
          "data": {
            "text/html": [
              ""
            ],
            "text/plain": [
              "<IPython.core.display.HTML object>"
            ]
          },
          "metadata": {}
        },
        {
          "output_type": "display_data",
          "data": {
            "text/html": [
              ""
            ],
            "text/plain": [
              "<IPython.core.display.HTML object>"
            ]
          },
          "metadata": {}
        }
      ]
    },
    {
      "cell_type": "code",
      "metadata": {
        "id": "05yrdOBICPBe"
      },
      "source": [
        ""
      ],
      "execution_count": null,
      "outputs": []
    },
    {
      "cell_type": "code",
      "metadata": {
        "id": "tq8jeZcR6Je_",
        "colab": {
          "base_uri": "https://localhost:8080/",
          "height": 1000
        },
        "outputId": "5a53bce1-2188-4d67-f443-4ddfb759ee70"
      },
      "source": [
        ""
      ],
      "execution_count": 9,
      "outputs": [
        {
          "output_type": "stream",
          "name": "stdout",
          "text": [
            "Collecting voila\n",
            "  Downloading voila-0.2.16-py3-none-any.whl (1.6 MB)\n",
            "\u001b[K     |████████████████████████████████| 1.6 MB 5.1 MB/s \n",
            "\u001b[?25hRequirement already satisfied: nbclient<0.6,>=0.4.0 in /usr/local/lib/python3.7/dist-packages (from voila) (0.5.4)\n",
            "Collecting jupyter-client<7,>=6.1.3\n",
            "  Downloading jupyter_client-6.1.12-py3-none-any.whl (112 kB)\n",
            "\u001b[K     |████████████████████████████████| 112 kB 37.7 MB/s \n",
            "\u001b[?25hCollecting nbconvert<7,>=6.0.0\n",
            "  Downloading nbconvert-6.2.0-py3-none-any.whl (553 kB)\n",
            "\u001b[K     |████████████████████████████████| 553 kB 60.5 MB/s \n",
            "\u001b[?25hCollecting jupyter-server<2.0.0,>=0.3.0\n",
            "  Downloading jupyter_server-1.11.1-py3-none-any.whl (393 kB)\n",
            "\u001b[K     |████████████████████████████████| 393 kB 37.9 MB/s \n",
            "\u001b[?25hRequirement already satisfied: tornado>=4.1 in /usr/local/lib/python3.7/dist-packages (from jupyter-client<7,>=6.1.3->voila) (5.1.1)\n",
            "Requirement already satisfied: pyzmq>=13 in /usr/local/lib/python3.7/dist-packages (from jupyter-client<7,>=6.1.3->voila) (22.3.0)\n",
            "Requirement already satisfied: traitlets in /usr/local/lib/python3.7/dist-packages (from jupyter-client<7,>=6.1.3->voila) (5.1.0)\n",
            "Requirement already satisfied: python-dateutil>=2.1 in /usr/local/lib/python3.7/dist-packages (from jupyter-client<7,>=6.1.3->voila) (2.8.2)\n",
            "Requirement already satisfied: jupyter-core>=4.6.0 in /usr/local/lib/python3.7/dist-packages (from jupyter-client<7,>=6.1.3->voila) (4.8.1)\n",
            "Requirement already satisfied: nbformat in /usr/local/lib/python3.7/dist-packages (from jupyter-server<2.0.0,>=0.3.0->voila) (5.1.3)\n",
            "Collecting anyio<4,>=3.1.0\n",
            "  Downloading anyio-3.3.2-py3-none-any.whl (78 kB)\n",
            "\u001b[K     |████████████████████████████████| 78 kB 6.1 MB/s \n",
            "\u001b[?25hRequirement already satisfied: prometheus-client in /usr/local/lib/python3.7/dist-packages (from jupyter-server<2.0.0,>=0.3.0->voila) (0.11.0)\n",
            "Collecting websocket-client\n",
            "  Downloading websocket_client-1.2.1-py2.py3-none-any.whl (52 kB)\n",
            "\u001b[K     |████████████████████████████████| 52 kB 1.2 MB/s \n",
            "\u001b[?25hCollecting tornado>=4.1\n",
            "  Downloading tornado-6.1-cp37-cp37m-manylinux2010_x86_64.whl (428 kB)\n",
            "\u001b[K     |████████████████████████████████| 428 kB 49.3 MB/s \n",
            "\u001b[?25hRequirement already satisfied: ipython-genutils in /usr/local/lib/python3.7/dist-packages (from jupyter-server<2.0.0,>=0.3.0->voila) (0.2.0)\n",
            "Requirement already satisfied: terminado>=0.8.3 in /usr/local/lib/python3.7/dist-packages (from jupyter-server<2.0.0,>=0.3.0->voila) (0.12.1)\n",
            "Requirement already satisfied: jinja2 in /usr/local/lib/python3.7/dist-packages (from jupyter-server<2.0.0,>=0.3.0->voila) (2.11.3)\n",
            "Requirement already satisfied: argon2-cffi in /usr/local/lib/python3.7/dist-packages (from jupyter-server<2.0.0,>=0.3.0->voila) (21.1.0)\n",
            "Collecting requests-unixsocket\n",
            "  Downloading requests_unixsocket-0.2.0-py2.py3-none-any.whl (11 kB)\n",
            "Requirement already satisfied: Send2Trash in /usr/local/lib/python3.7/dist-packages (from jupyter-server<2.0.0,>=0.3.0->voila) (1.8.0)\n",
            "Collecting sniffio>=1.1\n",
            "  Downloading sniffio-1.2.0-py3-none-any.whl (10 kB)\n",
            "Requirement already satisfied: typing-extensions in /usr/local/lib/python3.7/dist-packages (from anyio<4,>=3.1.0->jupyter-server<2.0.0,>=0.3.0->voila) (3.7.4.3)\n",
            "Requirement already satisfied: idna>=2.8 in /usr/local/lib/python3.7/dist-packages (from anyio<4,>=3.1.0->jupyter-server<2.0.0,>=0.3.0->voila) (2.10)\n",
            "Requirement already satisfied: nest-asyncio in /usr/local/lib/python3.7/dist-packages (from nbclient<0.6,>=0.4.0->voila) (1.5.1)\n",
            "Requirement already satisfied: testpath in /usr/local/lib/python3.7/dist-packages (from nbconvert<7,>=6.0.0->voila) (0.5.0)\n",
            "Requirement already satisfied: mistune<2,>=0.8.1 in /usr/local/lib/python3.7/dist-packages (from nbconvert<7,>=6.0.0->voila) (0.8.4)\n",
            "Requirement already satisfied: entrypoints>=0.2.2 in /usr/local/lib/python3.7/dist-packages (from nbconvert<7,>=6.0.0->voila) (0.3)\n",
            "Requirement already satisfied: pygments>=2.4.1 in /usr/local/lib/python3.7/dist-packages (from nbconvert<7,>=6.0.0->voila) (2.6.1)\n",
            "Requirement already satisfied: jupyterlab-pygments in /usr/local/lib/python3.7/dist-packages (from nbconvert<7,>=6.0.0->voila) (0.1.2)\n",
            "Requirement already satisfied: pandocfilters>=1.4.1 in /usr/local/lib/python3.7/dist-packages (from nbconvert<7,>=6.0.0->voila) (1.5.0)\n",
            "Requirement already satisfied: defusedxml in /usr/local/lib/python3.7/dist-packages (from nbconvert<7,>=6.0.0->voila) (0.7.1)\n",
            "Requirement already satisfied: bleach in /usr/local/lib/python3.7/dist-packages (from nbconvert<7,>=6.0.0->voila) (4.1.0)\n",
            "Requirement already satisfied: MarkupSafe>=0.23 in /usr/local/lib/python3.7/dist-packages (from jinja2->jupyter-server<2.0.0,>=0.3.0->voila) (2.0.1)\n",
            "Requirement already satisfied: jsonschema!=2.5.0,>=2.4 in /usr/local/lib/python3.7/dist-packages (from nbformat->jupyter-server<2.0.0,>=0.3.0->voila) (2.6.0)\n",
            "Requirement already satisfied: six>=1.5 in /usr/local/lib/python3.7/dist-packages (from python-dateutil>=2.1->jupyter-client<7,>=6.1.3->voila) (1.15.0)\n",
            "Requirement already satisfied: ptyprocess in /usr/local/lib/python3.7/dist-packages (from terminado>=0.8.3->jupyter-server<2.0.0,>=0.3.0->voila) (0.7.0)\n",
            "Requirement already satisfied: cffi>=1.0.0 in /usr/local/lib/python3.7/dist-packages (from argon2-cffi->jupyter-server<2.0.0,>=0.3.0->voila) (1.14.6)\n",
            "Requirement already satisfied: pycparser in /usr/local/lib/python3.7/dist-packages (from cffi>=1.0.0->argon2-cffi->jupyter-server<2.0.0,>=0.3.0->voila) (2.20)\n",
            "Requirement already satisfied: webencodings in /usr/local/lib/python3.7/dist-packages (from bleach->nbconvert<7,>=6.0.0->voila) (0.5.1)\n",
            "Requirement already satisfied: packaging in /usr/local/lib/python3.7/dist-packages (from bleach->nbconvert<7,>=6.0.0->voila) (21.0)\n",
            "Requirement already satisfied: pyparsing>=2.0.2 in /usr/local/lib/python3.7/dist-packages (from packaging->bleach->nbconvert<7,>=6.0.0->voila) (2.4.7)\n",
            "Requirement already satisfied: urllib3>=1.8 in /usr/local/lib/python3.7/dist-packages (from requests-unixsocket->jupyter-server<2.0.0,>=0.3.0->voila) (1.24.3)\n",
            "Requirement already satisfied: requests>=1.1 in /usr/local/lib/python3.7/dist-packages (from requests-unixsocket->jupyter-server<2.0.0,>=0.3.0->voila) (2.23.0)\n",
            "Requirement already satisfied: chardet<4,>=3.0.2 in /usr/local/lib/python3.7/dist-packages (from requests>=1.1->requests-unixsocket->jupyter-server<2.0.0,>=0.3.0->voila) (3.0.4)\n",
            "Requirement already satisfied: certifi>=2017.4.17 in /usr/local/lib/python3.7/dist-packages (from requests>=1.1->requests-unixsocket->jupyter-server<2.0.0,>=0.3.0->voila) (2021.5.30)\n",
            "Installing collected packages: tornado, jupyter-client, sniffio, websocket-client, requests-unixsocket, nbconvert, anyio, jupyter-server, voila\n",
            "  Attempting uninstall: tornado\n",
            "    Found existing installation: tornado 5.1.1\n",
            "    Uninstalling tornado-5.1.1:\n",
            "      Successfully uninstalled tornado-5.1.1\n",
            "  Attempting uninstall: jupyter-client\n",
            "    Found existing installation: jupyter-client 5.3.5\n",
            "    Uninstalling jupyter-client-5.3.5:\n",
            "      Successfully uninstalled jupyter-client-5.3.5\n",
            "  Attempting uninstall: nbconvert\n",
            "    Found existing installation: nbconvert 5.6.1\n",
            "    Uninstalling nbconvert-5.6.1:\n",
            "      Successfully uninstalled nbconvert-5.6.1\n",
            "\u001b[31mERROR: pip's dependency resolver does not currently take into account all the packages that are installed. This behaviour is the source of the following dependency conflicts.\n",
            "nbdev 1.1.22 requires nbconvert<6, but you have nbconvert 6.2.0 which is incompatible.\n",
            "google-colab 1.0.0 requires tornado~=5.1.0; python_version >= \"3.0\", but you have tornado 6.1 which is incompatible.\u001b[0m\n",
            "Successfully installed anyio-3.3.2 jupyter-client-6.1.12 jupyter-server-1.11.1 nbconvert-6.2.0 requests-unixsocket-0.2.0 sniffio-1.2.0 tornado-6.1 voila-0.2.16 websocket-client-1.2.1\n"
          ]
        },
        {
          "output_type": "display_data",
          "data": {
            "application/vnd.colab-display-data+json": {
              "pip_warning": {
                "packages": [
                  "jupyter_client",
                  "tornado"
                ]
              }
            }
          },
          "metadata": {}
        },
        {
          "output_type": "stream",
          "name": "stdout",
          "text": [
            "Enabling: voila\n",
            "- Writing config: /usr/etc/jupyter\n",
            "    - Validating...\n",
            "Error loading server extension voila\n",
            "     \u001b[31m X\u001b[0m is voila importable?\n"
          ]
        }
      ]
    }
  ]
}